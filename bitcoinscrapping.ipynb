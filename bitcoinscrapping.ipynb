{
 "cells": [
  {
   "cell_type": "code",
   "execution_count": 1,
   "id": "charitable-bridges",
   "metadata": {},
   "outputs": [],
   "source": [
    "import datetime\n",
    "import requests\n",
    "import pandas as pd"
   ]
  },
  {
   "cell_type": "code",
   "execution_count": 2,
   "id": "aerial-serve",
   "metadata": {},
   "outputs": [],
   "source": [
    "response=requests.get(url=\"https://api.gemini.com/v1/symbols\")"
   ]
  },
  {
   "cell_type": "code",
   "execution_count": 3,
   "id": "minor-coordination",
   "metadata": {},
   "outputs": [
    {
     "data": {
      "text/plain": [
       "<Response [200]>"
      ]
     },
     "execution_count": 3,
     "metadata": {},
     "output_type": "execute_result"
    }
   ],
   "source": [
    "response"
   ]
  },
  {
   "cell_type": "code",
   "execution_count": 4,
   "id": "prompt-kruger",
   "metadata": {},
   "outputs": [
    {
     "data": {
      "text/plain": [
       "['btcusd',\n",
       " 'btcdai',\n",
       " 'btcgbp',\n",
       " 'btceur',\n",
       " 'btcsgd',\n",
       " 'ethbtc',\n",
       " 'ethusd',\n",
       " 'ethgbp',\n",
       " 'etheur',\n",
       " 'ethsgd',\n",
       " 'ethdai',\n",
       " 'bchusd',\n",
       " 'bchbtc',\n",
       " 'bcheth',\n",
       " 'ltcusd',\n",
       " 'ltcbtc',\n",
       " 'ltceth',\n",
       " 'ltcbch',\n",
       " 'zecusd',\n",
       " 'zecbtc',\n",
       " 'zeceth',\n",
       " 'zecbch',\n",
       " 'zecltc',\n",
       " 'batusd',\n",
       " 'batbtc',\n",
       " 'bateth',\n",
       " 'linkusd',\n",
       " 'linkbtc',\n",
       " 'linketh',\n",
       " 'daiusd',\n",
       " 'oxtusd',\n",
       " 'oxtbtc',\n",
       " 'oxteth',\n",
       " 'filusd',\n",
       " 'ampusd',\n",
       " 'paxgusd',\n",
       " 'compusd',\n",
       " 'mkrusd',\n",
       " 'zrxusd',\n",
       " 'kncusd',\n",
       " 'storjusd',\n",
       " 'manausd',\n",
       " 'aaveusd',\n",
       " 'snxusd',\n",
       " 'yfiusd',\n",
       " 'umausd',\n",
       " 'balusd',\n",
       " 'crvusd',\n",
       " 'renusd',\n",
       " 'uniusd',\n",
       " 'enjusd',\n",
       " 'bntusd',\n",
       " '1inchusd',\n",
       " 'sklusd',\n",
       " 'grtusd',\n",
       " 'lrcusd',\n",
       " 'sandusd']"
      ]
     },
     "execution_count": 4,
     "metadata": {},
     "output_type": "execute_result"
    }
   ],
   "source": [
    "response.json()"
   ]
  },
  {
   "cell_type": "code",
   "execution_count": 5,
   "id": "charged-momentum",
   "metadata": {},
   "outputs": [
    {
     "data": {
      "text/plain": [
       "requests.models.Response"
      ]
     },
     "execution_count": 5,
     "metadata": {},
     "output_type": "execute_result"
    }
   ],
   "source": [
    "type(response)"
   ]
  },
  {
   "cell_type": "code",
   "execution_count": 6,
   "id": "anticipated-assembly",
   "metadata": {},
   "outputs": [],
   "source": [
    "base_url = \"https://api.gemini.com/v2\""
   ]
  },
  {
   "cell_type": "code",
   "execution_count": 7,
   "id": "random-going",
   "metadata": {},
   "outputs": [],
   "source": [
    "response = requests.get(base_url + \"/candles/btcusd/15m\")"
   ]
  },
  {
   "cell_type": "code",
   "execution_count": 8,
   "id": "tender-wrapping",
   "metadata": {},
   "outputs": [
    {
     "data": {
      "text/plain": [
       "<Response [200]>"
      ]
     },
     "execution_count": 8,
     "metadata": {},
     "output_type": "execute_result"
    }
   ],
   "source": [
    "response"
   ]
  },
  {
   "cell_type": "code",
   "execution_count": 9,
   "id": "catholic-snapshot",
   "metadata": {},
   "outputs": [
    {
     "data": {
      "text/plain": [
       "1345"
      ]
     },
     "execution_count": 9,
     "metadata": {},
     "output_type": "execute_result"
    }
   ],
   "source": [
    "len(response.json())"
   ]
  },
  {
   "cell_type": "code",
   "execution_count": 10,
   "id": "complicated-religious",
   "metadata": {},
   "outputs": [],
   "source": [
    "def get_candles_dataframe(json_data:str):\n",
    "    candles_df=pd.DataFrame(json_data)\n",
    "    candles_df.columns=[\"time\",\"open_price\",\"high_price\",\"low_price\",\"close_price\",\"volume\"]\n",
    "    candles_df[\"time\"]=candles_df[\"time\"].apply(lambda x:datetime.datetime.fromtimestamp(x/1000.0))\n",
    "    return candles_df"
   ]
  },
  {
   "cell_type": "code",
   "execution_count": 11,
   "id": "living-plain",
   "metadata": {},
   "outputs": [],
   "source": [
    "df=get_candles_dataframe(response.json())"
   ]
  },
  {
   "cell_type": "code",
   "execution_count": 12,
   "id": "based-buyer",
   "metadata": {},
   "outputs": [
    {
     "data": {
      "text/html": [
       "<div>\n",
       "<style scoped>\n",
       "    .dataframe tbody tr th:only-of-type {\n",
       "        vertical-align: middle;\n",
       "    }\n",
       "\n",
       "    .dataframe tbody tr th {\n",
       "        vertical-align: top;\n",
       "    }\n",
       "\n",
       "    .dataframe thead th {\n",
       "        text-align: right;\n",
       "    }\n",
       "</style>\n",
       "<table border=\"1\" class=\"dataframe\">\n",
       "  <thead>\n",
       "    <tr style=\"text-align: right;\">\n",
       "      <th></th>\n",
       "      <th>time</th>\n",
       "      <th>open_price</th>\n",
       "      <th>high_price</th>\n",
       "      <th>low_price</th>\n",
       "      <th>close_price</th>\n",
       "      <th>volume</th>\n",
       "    </tr>\n",
       "  </thead>\n",
       "  <tbody>\n",
       "    <tr>\n",
       "      <th>0</th>\n",
       "      <td>2021-03-24 19:30:00</td>\n",
       "      <td>55163.80</td>\n",
       "      <td>55247.68</td>\n",
       "      <td>55101.01</td>\n",
       "      <td>55216.89</td>\n",
       "      <td>0.783609</td>\n",
       "    </tr>\n",
       "    <tr>\n",
       "      <th>1</th>\n",
       "      <td>2021-03-24 19:15:00</td>\n",
       "      <td>55436.95</td>\n",
       "      <td>55476.57</td>\n",
       "      <td>55111.00</td>\n",
       "      <td>55163.80</td>\n",
       "      <td>11.102428</td>\n",
       "    </tr>\n",
       "    <tr>\n",
       "      <th>2</th>\n",
       "      <td>2021-03-24 19:00:00</td>\n",
       "      <td>55333.72</td>\n",
       "      <td>55500.00</td>\n",
       "      <td>55311.80</td>\n",
       "      <td>55436.95</td>\n",
       "      <td>12.642304</td>\n",
       "    </tr>\n",
       "    <tr>\n",
       "      <th>3</th>\n",
       "      <td>2021-03-24 18:45:00</td>\n",
       "      <td>55529.21</td>\n",
       "      <td>55649.06</td>\n",
       "      <td>55325.54</td>\n",
       "      <td>55333.72</td>\n",
       "      <td>20.905154</td>\n",
       "    </tr>\n",
       "    <tr>\n",
       "      <th>4</th>\n",
       "      <td>2021-03-24 18:30:00</td>\n",
       "      <td>55900.01</td>\n",
       "      <td>55924.41</td>\n",
       "      <td>55529.21</td>\n",
       "      <td>55529.21</td>\n",
       "      <td>11.763965</td>\n",
       "    </tr>\n",
       "  </tbody>\n",
       "</table>\n",
       "</div>"
      ],
      "text/plain": [
       "                 time  open_price  high_price  low_price  close_price  \\\n",
       "0 2021-03-24 19:30:00    55163.80    55247.68   55101.01     55216.89   \n",
       "1 2021-03-24 19:15:00    55436.95    55476.57   55111.00     55163.80   \n",
       "2 2021-03-24 19:00:00    55333.72    55500.00   55311.80     55436.95   \n",
       "3 2021-03-24 18:45:00    55529.21    55649.06   55325.54     55333.72   \n",
       "4 2021-03-24 18:30:00    55900.01    55924.41   55529.21     55529.21   \n",
       "\n",
       "      volume  \n",
       "0   0.783609  \n",
       "1  11.102428  \n",
       "2  12.642304  \n",
       "3  20.905154  \n",
       "4  11.763965  "
      ]
     },
     "execution_count": 12,
     "metadata": {},
     "output_type": "execute_result"
    }
   ],
   "source": [
    "df.head()"
   ]
  },
  {
   "cell_type": "code",
   "execution_count": 13,
   "id": "lonely-vessel",
   "metadata": {},
   "outputs": [
    {
     "data": {
      "text/html": [
       "<div>\n",
       "<style scoped>\n",
       "    .dataframe tbody tr th:only-of-type {\n",
       "        vertical-align: middle;\n",
       "    }\n",
       "\n",
       "    .dataframe tbody tr th {\n",
       "        vertical-align: top;\n",
       "    }\n",
       "\n",
       "    .dataframe thead th {\n",
       "        text-align: right;\n",
       "    }\n",
       "</style>\n",
       "<table border=\"1\" class=\"dataframe\">\n",
       "  <thead>\n",
       "    <tr style=\"text-align: right;\">\n",
       "      <th></th>\n",
       "      <th>time</th>\n",
       "      <th>open_price</th>\n",
       "      <th>high_price</th>\n",
       "      <th>low_price</th>\n",
       "      <th>close_price</th>\n",
       "      <th>volume</th>\n",
       "    </tr>\n",
       "  </thead>\n",
       "  <tbody>\n",
       "    <tr>\n",
       "      <th>1340</th>\n",
       "      <td>2021-03-10 20:30:00</td>\n",
       "      <td>56597.52</td>\n",
       "      <td>56597.52</td>\n",
       "      <td>56062.00</td>\n",
       "      <td>56062.00</td>\n",
       "      <td>45.991235</td>\n",
       "    </tr>\n",
       "    <tr>\n",
       "      <th>1341</th>\n",
       "      <td>2021-03-10 20:15:00</td>\n",
       "      <td>56738.59</td>\n",
       "      <td>56786.06</td>\n",
       "      <td>56199.98</td>\n",
       "      <td>56597.52</td>\n",
       "      <td>52.490627</td>\n",
       "    </tr>\n",
       "    <tr>\n",
       "      <th>1342</th>\n",
       "      <td>2021-03-10 20:00:00</td>\n",
       "      <td>56752.98</td>\n",
       "      <td>56980.00</td>\n",
       "      <td>56538.37</td>\n",
       "      <td>56738.59</td>\n",
       "      <td>51.907660</td>\n",
       "    </tr>\n",
       "    <tr>\n",
       "      <th>1343</th>\n",
       "      <td>2021-03-10 19:45:00</td>\n",
       "      <td>56837.90</td>\n",
       "      <td>57097.94</td>\n",
       "      <td>56645.66</td>\n",
       "      <td>56752.98</td>\n",
       "      <td>21.730557</td>\n",
       "    </tr>\n",
       "    <tr>\n",
       "      <th>1344</th>\n",
       "      <td>2021-03-10 19:30:00</td>\n",
       "      <td>57071.79</td>\n",
       "      <td>57154.42</td>\n",
       "      <td>56812.09</td>\n",
       "      <td>56837.90</td>\n",
       "      <td>11.959075</td>\n",
       "    </tr>\n",
       "  </tbody>\n",
       "</table>\n",
       "</div>"
      ],
      "text/plain": [
       "                    time  open_price  high_price  low_price  close_price  \\\n",
       "1340 2021-03-10 20:30:00    56597.52    56597.52   56062.00     56062.00   \n",
       "1341 2021-03-10 20:15:00    56738.59    56786.06   56199.98     56597.52   \n",
       "1342 2021-03-10 20:00:00    56752.98    56980.00   56538.37     56738.59   \n",
       "1343 2021-03-10 19:45:00    56837.90    57097.94   56645.66     56752.98   \n",
       "1344 2021-03-10 19:30:00    57071.79    57154.42   56812.09     56837.90   \n",
       "\n",
       "         volume  \n",
       "1340  45.991235  \n",
       "1341  52.490627  \n",
       "1342  51.907660  \n",
       "1343  21.730557  \n",
       "1344  11.959075  "
      ]
     },
     "execution_count": 13,
     "metadata": {},
     "output_type": "execute_result"
    }
   ],
   "source": [
    "df.tail()"
   ]
  },
  {
   "cell_type": "code",
   "execution_count": 14,
   "id": "norman-bench",
   "metadata": {},
   "outputs": [],
   "source": [
    "response1 = requests.get(base_url + \"/candles/btcusd/1day\")\n",
    "df1=get_candles_dataframe(response1.json())"
   ]
  },
  {
   "cell_type": "code",
   "execution_count": 15,
   "id": "governing-implement",
   "metadata": {},
   "outputs": [
    {
     "data": {
      "text/html": [
       "<div>\n",
       "<style scoped>\n",
       "    .dataframe tbody tr th:only-of-type {\n",
       "        vertical-align: middle;\n",
       "    }\n",
       "\n",
       "    .dataframe tbody tr th {\n",
       "        vertical-align: top;\n",
       "    }\n",
       "\n",
       "    .dataframe thead th {\n",
       "        text-align: right;\n",
       "    }\n",
       "</style>\n",
       "<table border=\"1\" class=\"dataframe\">\n",
       "  <thead>\n",
       "    <tr style=\"text-align: right;\">\n",
       "      <th></th>\n",
       "      <th>time</th>\n",
       "      <th>open_price</th>\n",
       "      <th>high_price</th>\n",
       "      <th>low_price</th>\n",
       "      <th>close_price</th>\n",
       "      <th>volume</th>\n",
       "    </tr>\n",
       "  </thead>\n",
       "  <tbody>\n",
       "    <tr>\n",
       "      <th>0</th>\n",
       "      <td>2021-03-24 04:00:00</td>\n",
       "      <td>54375.12</td>\n",
       "      <td>57245.00</td>\n",
       "      <td>53752.08</td>\n",
       "      <td>55210.43</td>\n",
       "      <td>1281.153655</td>\n",
       "    </tr>\n",
       "    <tr>\n",
       "      <th>1</th>\n",
       "      <td>2021-03-23 04:00:00</td>\n",
       "      <td>54710.81</td>\n",
       "      <td>55903.62</td>\n",
       "      <td>53000.00</td>\n",
       "      <td>54375.12</td>\n",
       "      <td>1916.143712</td>\n",
       "    </tr>\n",
       "    <tr>\n",
       "      <th>2</th>\n",
       "      <td>2021-03-22 04:00:00</td>\n",
       "      <td>57551.47</td>\n",
       "      <td>58445.36</td>\n",
       "      <td>53733.67</td>\n",
       "      <td>54710.81</td>\n",
       "      <td>1771.204788</td>\n",
       "    </tr>\n",
       "    <tr>\n",
       "      <th>3</th>\n",
       "      <td>2021-03-21 04:00:00</td>\n",
       "      <td>57833.32</td>\n",
       "      <td>58164.58</td>\n",
       "      <td>55500.00</td>\n",
       "      <td>57551.47</td>\n",
       "      <td>781.348959</td>\n",
       "    </tr>\n",
       "    <tr>\n",
       "      <th>4</th>\n",
       "      <td>2021-03-20 04:00:00</td>\n",
       "      <td>58428.90</td>\n",
       "      <td>59880.00</td>\n",
       "      <td>57469.36</td>\n",
       "      <td>57833.32</td>\n",
       "      <td>774.222534</td>\n",
       "    </tr>\n",
       "  </tbody>\n",
       "</table>\n",
       "</div>"
      ],
      "text/plain": [
       "                 time  open_price  high_price  low_price  close_price  \\\n",
       "0 2021-03-24 04:00:00    54375.12    57245.00   53752.08     55210.43   \n",
       "1 2021-03-23 04:00:00    54710.81    55903.62   53000.00     54375.12   \n",
       "2 2021-03-22 04:00:00    57551.47    58445.36   53733.67     54710.81   \n",
       "3 2021-03-21 04:00:00    57833.32    58164.58   55500.00     57551.47   \n",
       "4 2021-03-20 04:00:00    58428.90    59880.00   57469.36     57833.32   \n",
       "\n",
       "        volume  \n",
       "0  1281.153655  \n",
       "1  1916.143712  \n",
       "2  1771.204788  \n",
       "3   781.348959  \n",
       "4   774.222534  "
      ]
     },
     "execution_count": 15,
     "metadata": {},
     "output_type": "execute_result"
    }
   ],
   "source": [
    "df1.head()"
   ]
  },
  {
   "cell_type": "code",
   "execution_count": 16,
   "id": "rough-beauty",
   "metadata": {},
   "outputs": [
    {
     "data": {
      "text/html": [
       "<div>\n",
       "<style scoped>\n",
       "    .dataframe tbody tr th:only-of-type {\n",
       "        vertical-align: middle;\n",
       "    }\n",
       "\n",
       "    .dataframe tbody tr th {\n",
       "        vertical-align: top;\n",
       "    }\n",
       "\n",
       "    .dataframe thead th {\n",
       "        text-align: right;\n",
       "    }\n",
       "</style>\n",
       "<table border=\"1\" class=\"dataframe\">\n",
       "  <thead>\n",
       "    <tr style=\"text-align: right;\">\n",
       "      <th></th>\n",
       "      <th>time</th>\n",
       "      <th>open_price</th>\n",
       "      <th>high_price</th>\n",
       "      <th>low_price</th>\n",
       "      <th>close_price</th>\n",
       "      <th>volume</th>\n",
       "    </tr>\n",
       "  </thead>\n",
       "  <tbody>\n",
       "    <tr>\n",
       "      <th>361</th>\n",
       "      <td>2020-03-28 04:00:00</td>\n",
       "      <td>6127.86</td>\n",
       "      <td>6334.28</td>\n",
       "      <td>6038.09</td>\n",
       "      <td>6219.79</td>\n",
       "      <td>1440.854602</td>\n",
       "    </tr>\n",
       "    <tr>\n",
       "      <th>362</th>\n",
       "      <td>2020-03-27 04:00:00</td>\n",
       "      <td>6821.95</td>\n",
       "      <td>6850.00</td>\n",
       "      <td>6071.87</td>\n",
       "      <td>6127.86</td>\n",
       "      <td>2960.203444</td>\n",
       "    </tr>\n",
       "    <tr>\n",
       "      <th>363</th>\n",
       "      <td>2020-03-26 04:00:00</td>\n",
       "      <td>6747.55</td>\n",
       "      <td>6869.50</td>\n",
       "      <td>6530.01</td>\n",
       "      <td>6821.95</td>\n",
       "      <td>2263.057246</td>\n",
       "    </tr>\n",
       "    <tr>\n",
       "      <th>364</th>\n",
       "      <td>2020-03-25 04:00:00</td>\n",
       "      <td>6577.72</td>\n",
       "      <td>6977.69</td>\n",
       "      <td>6471.08</td>\n",
       "      <td>6747.55</td>\n",
       "      <td>4540.126200</td>\n",
       "    </tr>\n",
       "    <tr>\n",
       "      <th>365</th>\n",
       "      <td>2020-03-24 04:00:00</td>\n",
       "      <td>6560.95</td>\n",
       "      <td>6866.70</td>\n",
       "      <td>6405.00</td>\n",
       "      <td>6577.72</td>\n",
       "      <td>6312.896540</td>\n",
       "    </tr>\n",
       "  </tbody>\n",
       "</table>\n",
       "</div>"
      ],
      "text/plain": [
       "                   time  open_price  high_price  low_price  close_price  \\\n",
       "361 2020-03-28 04:00:00     6127.86     6334.28    6038.09      6219.79   \n",
       "362 2020-03-27 04:00:00     6821.95     6850.00    6071.87      6127.86   \n",
       "363 2020-03-26 04:00:00     6747.55     6869.50    6530.01      6821.95   \n",
       "364 2020-03-25 04:00:00     6577.72     6977.69    6471.08      6747.55   \n",
       "365 2020-03-24 04:00:00     6560.95     6866.70    6405.00      6577.72   \n",
       "\n",
       "          volume  \n",
       "361  1440.854602  \n",
       "362  2960.203444  \n",
       "363  2263.057246  \n",
       "364  4540.126200  \n",
       "365  6312.896540  "
      ]
     },
     "execution_count": 16,
     "metadata": {},
     "output_type": "execute_result"
    }
   ],
   "source": [
    "df1.tail()"
   ]
  },
  {
   "cell_type": "code",
   "execution_count": 17,
   "id": "statewide-constitutional",
   "metadata": {},
   "outputs": [],
   "source": [
    "response2 = requests.get(base_url + \"/candles/btcusd/1hr\")\n",
    "df2=get_candles_dataframe(response2.json())"
   ]
  },
  {
   "cell_type": "code",
   "execution_count": 18,
   "id": "organizational-footwear",
   "metadata": {},
   "outputs": [],
   "source": [
    "response3 = requests.get(base_url + \"/candles/btcusd/6hr\")\n",
    "df3=get_candles_dataframe(response3.json())"
   ]
  },
  {
   "cell_type": "code",
   "execution_count": 19,
   "id": "happy-princeton",
   "metadata": {},
   "outputs": [],
   "source": [
    "response4 = requests.get(base_url + \"/candles/btcusd/5m\")\n",
    "df4=get_candles_dataframe(response4.json())"
   ]
  },
  {
   "cell_type": "code",
   "execution_count": 20,
   "id": "removed-tuning",
   "metadata": {},
   "outputs": [],
   "source": [
    "newdf=pd.concat([df,df1,df2,df3,df4],axis=0)"
   ]
  },
  {
   "cell_type": "code",
   "execution_count": 21,
   "id": "jewish-buffer",
   "metadata": {},
   "outputs": [
    {
     "data": {
      "text/plain": [
       "(5550, 6)"
      ]
     },
     "execution_count": 21,
     "metadata": {},
     "output_type": "execute_result"
    }
   ],
   "source": [
    "newdf.shape"
   ]
  },
  {
   "cell_type": "code",
   "execution_count": 22,
   "id": "indirect-corpus",
   "metadata": {},
   "outputs": [],
   "source": [
    "newdf.drop_duplicates(inplace=True)"
   ]
  },
  {
   "cell_type": "code",
   "execution_count": 23,
   "id": "informed-singapore",
   "metadata": {},
   "outputs": [
    {
     "data": {
      "text/plain": [
       "(5550, 6)"
      ]
     },
     "execution_count": 23,
     "metadata": {},
     "output_type": "execute_result"
    }
   ],
   "source": [
    "newdf.shape"
   ]
  },
  {
   "cell_type": "code",
   "execution_count": 24,
   "id": "unexpected-gambling",
   "metadata": {},
   "outputs": [],
   "source": [
    "btc_df=newdf[[\"time\",\"close_price\"]]"
   ]
  },
  {
   "cell_type": "code",
   "execution_count": 25,
   "id": "dynamic-recall",
   "metadata": {},
   "outputs": [
    {
     "data": {
      "text/html": [
       "<div>\n",
       "<style scoped>\n",
       "    .dataframe tbody tr th:only-of-type {\n",
       "        vertical-align: middle;\n",
       "    }\n",
       "\n",
       "    .dataframe tbody tr th {\n",
       "        vertical-align: top;\n",
       "    }\n",
       "\n",
       "    .dataframe thead th {\n",
       "        text-align: right;\n",
       "    }\n",
       "</style>\n",
       "<table border=\"1\" class=\"dataframe\">\n",
       "  <thead>\n",
       "    <tr style=\"text-align: right;\">\n",
       "      <th></th>\n",
       "      <th>time</th>\n",
       "      <th>close_price</th>\n",
       "    </tr>\n",
       "  </thead>\n",
       "  <tbody>\n",
       "    <tr>\n",
       "      <th>0</th>\n",
       "      <td>2021-03-24 19:30:00</td>\n",
       "      <td>55216.89</td>\n",
       "    </tr>\n",
       "    <tr>\n",
       "      <th>1</th>\n",
       "      <td>2021-03-24 19:15:00</td>\n",
       "      <td>55163.80</td>\n",
       "    </tr>\n",
       "    <tr>\n",
       "      <th>2</th>\n",
       "      <td>2021-03-24 19:00:00</td>\n",
       "      <td>55436.95</td>\n",
       "    </tr>\n",
       "    <tr>\n",
       "      <th>3</th>\n",
       "      <td>2021-03-24 18:45:00</td>\n",
       "      <td>55333.72</td>\n",
       "    </tr>\n",
       "    <tr>\n",
       "      <th>4</th>\n",
       "      <td>2021-03-24 18:30:00</td>\n",
       "      <td>55529.21</td>\n",
       "    </tr>\n",
       "  </tbody>\n",
       "</table>\n",
       "</div>"
      ],
      "text/plain": [
       "                 time  close_price\n",
       "0 2021-03-24 19:30:00     55216.89\n",
       "1 2021-03-24 19:15:00     55163.80\n",
       "2 2021-03-24 19:00:00     55436.95\n",
       "3 2021-03-24 18:45:00     55333.72\n",
       "4 2021-03-24 18:30:00     55529.21"
      ]
     },
     "execution_count": 25,
     "metadata": {},
     "output_type": "execute_result"
    }
   ],
   "source": [
    "btc_df.head()"
   ]
  },
  {
   "cell_type": "code",
   "execution_count": 26,
   "id": "therapeutic-salem",
   "metadata": {},
   "outputs": [],
   "source": [
    "btc_df=btc_df.sort_values(by='time',ignore_index=True)"
   ]
  },
  {
   "cell_type": "code",
   "execution_count": 27,
   "id": "elegant-demand",
   "metadata": {},
   "outputs": [
    {
     "data": {
      "text/html": [
       "<div>\n",
       "<style scoped>\n",
       "    .dataframe tbody tr th:only-of-type {\n",
       "        vertical-align: middle;\n",
       "    }\n",
       "\n",
       "    .dataframe tbody tr th {\n",
       "        vertical-align: top;\n",
       "    }\n",
       "\n",
       "    .dataframe thead th {\n",
       "        text-align: right;\n",
       "    }\n",
       "</style>\n",
       "<table border=\"1\" class=\"dataframe\">\n",
       "  <thead>\n",
       "    <tr style=\"text-align: right;\">\n",
       "      <th></th>\n",
       "      <th>time</th>\n",
       "      <th>close_price</th>\n",
       "    </tr>\n",
       "  </thead>\n",
       "  <tbody>\n",
       "    <tr>\n",
       "      <th>0</th>\n",
       "      <td>2020-03-24 04:00:00</td>\n",
       "      <td>6577.72</td>\n",
       "    </tr>\n",
       "    <tr>\n",
       "      <th>1</th>\n",
       "      <td>2020-03-25 04:00:00</td>\n",
       "      <td>6747.55</td>\n",
       "    </tr>\n",
       "    <tr>\n",
       "      <th>2</th>\n",
       "      <td>2020-03-26 04:00:00</td>\n",
       "      <td>6821.95</td>\n",
       "    </tr>\n",
       "    <tr>\n",
       "      <th>3</th>\n",
       "      <td>2020-03-27 04:00:00</td>\n",
       "      <td>6127.86</td>\n",
       "    </tr>\n",
       "    <tr>\n",
       "      <th>4</th>\n",
       "      <td>2020-03-28 04:00:00</td>\n",
       "      <td>6219.79</td>\n",
       "    </tr>\n",
       "  </tbody>\n",
       "</table>\n",
       "</div>"
      ],
      "text/plain": [
       "                 time  close_price\n",
       "0 2020-03-24 04:00:00      6577.72\n",
       "1 2020-03-25 04:00:00      6747.55\n",
       "2 2020-03-26 04:00:00      6821.95\n",
       "3 2020-03-27 04:00:00      6127.86\n",
       "4 2020-03-28 04:00:00      6219.79"
      ]
     },
     "execution_count": 27,
     "metadata": {},
     "output_type": "execute_result"
    }
   ],
   "source": [
    "btc_df.head()"
   ]
  },
  {
   "cell_type": "code",
   "execution_count": 28,
   "id": "later-turning",
   "metadata": {},
   "outputs": [
    {
     "data": {
      "text/plain": [
       "(5550, 2)"
      ]
     },
     "execution_count": 28,
     "metadata": {},
     "output_type": "execute_result"
    }
   ],
   "source": [
    "btc_df.shape"
   ]
  },
  {
   "cell_type": "code",
   "execution_count": 29,
   "id": "weighted-strand",
   "metadata": {},
   "outputs": [],
   "source": [
    "btc_df.to_csv(\"bitcoin.csv\")"
   ]
  },
  {
   "cell_type": "code",
   "execution_count": null,
   "id": "worthy-capital",
   "metadata": {},
   "outputs": [],
   "source": []
  }
 ],
 "metadata": {
  "kernelspec": {
   "display_name": "Python 3",
   "language": "python",
   "name": "python3"
  },
  "language_info": {
   "codemirror_mode": {
    "name": "ipython",
    "version": 3
   },
   "file_extension": ".py",
   "mimetype": "text/x-python",
   "name": "python",
   "nbconvert_exporter": "python",
   "pygments_lexer": "ipython3",
   "version": "3.8.8"
  }
 },
 "nbformat": 4,
 "nbformat_minor": 5
}
