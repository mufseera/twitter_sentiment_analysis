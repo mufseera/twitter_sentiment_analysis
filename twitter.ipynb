{
 "cells": [
  {
   "cell_type": "code",
   "execution_count": 2,
   "id": "adjustable-mechanism",
   "metadata": {},
   "outputs": [
    {
     "data": {
      "text/plain": [
       "'3.10.0'"
      ]
     },
     "execution_count": 2,
     "metadata": {},
     "output_type": "execute_result"
    }
   ],
   "source": [
    "import tweepy\n",
    "import pandas as pd\n",
    "pd.set_option('display.max_rows', None)\n",
    "pd.set_option('display.max_columns', None)\n",
    "pd.set_option('display.width', None)\n",
    "import time\n",
    "import datetime\n",
    "# pd.set_option('display.max_colwidth', -1)\n",
    "tweepy.__version__"
   ]
  },
  {
   "cell_type": "code",
   "execution_count": 128,
   "id": "improved-uruguay",
   "metadata": {},
   "outputs": [],
   "source": [
    "consumer_key=\"AnlrMw88AVC7MkQDWYegpUFUP\"\n",
    "consumer_secret=\"ZFC7Ddxww4sbebgNy5qddUjvMUiKaF6QCYUPD8DwP43AAlWwjA\"\n",
    "access_token=\"95877051-ei1CoqW4adQeAVycIXIvfosmlZ7e6B4EfpQkxMqcp\"\n",
    "access_token_secret=\"E9OAvKeIcILhTICAJmWuzfx7oSwR84NihnlRukrr6uBSN\""
   ]
  },
  {
   "cell_type": "code",
   "execution_count": 129,
   "id": "accurate-worker",
   "metadata": {},
   "outputs": [],
   "source": [
    "auth=tweepy.OAuthHandler(consumer_key,consumer_secret)\n",
    "auth.set_access_token(access_token,access_token_secret)\n",
    "api=tweepy.API(auth)"
   ]
  },
  {
   "cell_type": "code",
   "execution_count": 96,
   "id": "accepted-phenomenon",
   "metadata": {},
   "outputs": [],
   "source": [
    "startDate = datetime.datetime(2021, 3, 17, 0, 0, 0)\n",
    "# endDate =   datetime.datetime(2021, 3, 24, 0, 0, 0)"
   ]
  },
  {
   "cell_type": "code",
   "execution_count": 97,
   "id": "published-dubai",
   "metadata": {},
   "outputs": [],
   "source": [
    "df = pd.DataFrame(columns = [\"tweets\",\"time\"])"
   ]
  },
  {
   "cell_type": "code",
   "execution_count": 98,
   "id": "compressed-volleyball",
   "metadata": {},
   "outputs": [],
   "source": [
    "def stream(data, file_name):\n",
    "    i = 0\n",
    "    for tweet in tweepy.Cursor(api.search, q=data, count=100, lang='en',since=startDate,until=endDate).items():\n",
    "        print(i, end='\\r')\n",
    "        df.loc[i, 'tweets'] = tweet.text\n",
    "        df.loc[i, 'time'] = tweet.created_at\n",
    "        df.to_csv('{}.csv'.format(file_name))\n",
    "        i+=1\n",
    "        if i == 10000:\n",
    "            break\n",
    "        else:\n",
    "            pass"
   ]
  },
  {
   "cell_type": "code",
   "execution_count": 99,
   "id": "further-sweden",
   "metadata": {},
   "outputs": [
    {
     "name": "stdout",
     "output_type": "stream",
     "text": [
      "4333\r"
     ]
    }
   ],
   "source": [
    "stream(data = ['Bitcoin'], file_name = 'twitterdata')"
   ]
  },
  {
   "cell_type": "code",
   "execution_count": 130,
   "id": "proof-processing",
   "metadata": {},
   "outputs": [],
   "source": [
    "def stream(data, file_name):\n",
    "    i = 0\n",
    "    for tweet in tweepy.Cursor(api.search, q=data, count=100, lang='en').items():\n",
    "        print(i, end='\\r')\n",
    "        df.loc[i, 'tweets'] = tweet.text\n",
    "        df.loc[i, 'time'] = tweet.created_at\n",
    "        df.to_csv('{}.csv'.format(file_name))\n",
    "        i+=1\n",
    "        if i == 10000:\n",
    "            break\n",
    "        else:\n",
    "            pass"
   ]
  },
  {
   "cell_type": "code",
   "execution_count": 131,
   "id": "moderate-parallel",
   "metadata": {},
   "outputs": [
    {
     "name": "stdout",
     "output_type": "stream",
     "text": [
      "9999\r"
     ]
    }
   ],
   "source": [
    "stream(data = ['Bitcoin'], file_name = 'twitterdata1')"
   ]
  },
  {
   "cell_type": "code",
   "execution_count": 172,
   "id": "collectible-bristol",
   "metadata": {},
   "outputs": [],
   "source": [
    "stream(data = ['Bitcoin'], file_name = 'twitter2')"
   ]
  },
  {
   "cell_type": "code",
   "execution_count": 3,
   "id": "advisory-agent",
   "metadata": {},
   "outputs": [],
   "source": [
    "df1=pd.read_csv(\"twitterdata.csv\")\n",
    "df2=pd.read_csv(\"twitterdata1.csv\")\n",
    "df3=pd.read_csv(\"twitter2.csv\")"
   ]
  },
  {
   "cell_type": "code",
   "execution_count": 174,
   "id": "strategic-bullet",
   "metadata": {},
   "outputs": [],
   "source": [
    "twitter_data=pd.concat([df1,df2,df3],axis=0,ignore_index=True)"
   ]
  },
  {
   "cell_type": "code",
   "execution_count": 175,
   "id": "banner-imaging",
   "metadata": {},
   "outputs": [
    {
     "data": {
      "text/plain": [
       "(24334, 4)"
      ]
     },
     "execution_count": 175,
     "metadata": {},
     "output_type": "execute_result"
    }
   ],
   "source": [
    "twitter_data.shape"
   ]
  },
  {
   "cell_type": "code",
   "execution_count": 176,
   "id": "conceptual-baghdad",
   "metadata": {},
   "outputs": [
    {
     "data": {
      "text/html": [
       "<div>\n",
       "<style scoped>\n",
       "    .dataframe tbody tr th:only-of-type {\n",
       "        vertical-align: middle;\n",
       "    }\n",
       "\n",
       "    .dataframe tbody tr th {\n",
       "        vertical-align: top;\n",
       "    }\n",
       "\n",
       "    .dataframe thead th {\n",
       "        text-align: right;\n",
       "    }\n",
       "</style>\n",
       "<table border=\"1\" class=\"dataframe\">\n",
       "  <thead>\n",
       "    <tr style=\"text-align: right;\">\n",
       "      <th></th>\n",
       "      <th>Unnamed: 0</th>\n",
       "      <th>tweets</th>\n",
       "      <th>time</th>\n",
       "      <th>Unnamed: 0.1</th>\n",
       "    </tr>\n",
       "  </thead>\n",
       "  <tbody>\n",
       "    <tr>\n",
       "      <th>24329</th>\n",
       "      <td>9995</td>\n",
       "      <td>RT @Scaramucci: Elon Musk didn’t stop with Tes...</td>\n",
       "      <td>2021-03-19 22:27:03</td>\n",
       "      <td>NaN</td>\n",
       "    </tr>\n",
       "    <tr>\n",
       "      <th>24330</th>\n",
       "      <td>9996</td>\n",
       "      <td>RT @_benkaufman: My message to old bankers, st...</td>\n",
       "      <td>2021-03-19 22:27:02</td>\n",
       "      <td>NaN</td>\n",
       "    </tr>\n",
       "    <tr>\n",
       "      <th>24331</th>\n",
       "      <td>9997</td>\n",
       "      <td>RT @CashApp: You can now instantly send bitcoi...</td>\n",
       "      <td>2021-03-19 22:27:02</td>\n",
       "      <td>NaN</td>\n",
       "    </tr>\n",
       "    <tr>\n",
       "      <th>24332</th>\n",
       "      <td>9998</td>\n",
       "      <td>RT @BankXRP: Visa CEO: We’ll let you spend cry...</td>\n",
       "      <td>2021-03-19 22:27:02</td>\n",
       "      <td>NaN</td>\n",
       "    </tr>\n",
       "    <tr>\n",
       "      <th>24333</th>\n",
       "      <td>9999</td>\n",
       "      <td>Bitcoin Bounce Downloads\\n\\niOS - https://t.co...</td>\n",
       "      <td>2021-03-19 22:27:02</td>\n",
       "      <td>NaN</td>\n",
       "    </tr>\n",
       "  </tbody>\n",
       "</table>\n",
       "</div>"
      ],
      "text/plain": [
       "       Unnamed: 0                                             tweets  \\\n",
       "24329        9995  RT @Scaramucci: Elon Musk didn’t stop with Tes...   \n",
       "24330        9996  RT @_benkaufman: My message to old bankers, st...   \n",
       "24331        9997  RT @CashApp: You can now instantly send bitcoi...   \n",
       "24332        9998  RT @BankXRP: Visa CEO: We’ll let you spend cry...   \n",
       "24333        9999  Bitcoin Bounce Downloads\\n\\niOS - https://t.co...   \n",
       "\n",
       "                      time  Unnamed: 0.1  \n",
       "24329  2021-03-19 22:27:03           NaN  \n",
       "24330  2021-03-19 22:27:02           NaN  \n",
       "24331  2021-03-19 22:27:02           NaN  \n",
       "24332  2021-03-19 22:27:02           NaN  \n",
       "24333  2021-03-19 22:27:02           NaN  "
      ]
     },
     "execution_count": 176,
     "metadata": {},
     "output_type": "execute_result"
    }
   ],
   "source": [
    "twitter_data.tail()"
   ]
  },
  {
   "cell_type": "code",
   "execution_count": 177,
   "id": "remarkable-skill",
   "metadata": {},
   "outputs": [],
   "source": [
    "twitter_data.drop(columns=[\"Unnamed: 0\",\"Unnamed: 0.1\"],inplace=True)"
   ]
  },
  {
   "cell_type": "code",
   "execution_count": 178,
   "id": "alien-girlfriend",
   "metadata": {},
   "outputs": [],
   "source": [
    "twitter_data.drop_duplicates(inplace=True)"
   ]
  },
  {
   "cell_type": "code",
   "execution_count": 179,
   "id": "marine-princess",
   "metadata": {},
   "outputs": [],
   "source": [
    "twitter_data.to_csv(\"twitter_data.csv\")"
   ]
  },
  {
   "cell_type": "code",
   "execution_count": 180,
   "id": "regulated-glucose",
   "metadata": {},
   "outputs": [
    {
     "data": {
      "text/plain": [
       "(9901, 2)"
      ]
     },
     "execution_count": 180,
     "metadata": {},
     "output_type": "execute_result"
    }
   ],
   "source": [
    "twitter_data[~twitter_data.tweets.str.contains(\"RT\")].shape"
   ]
  },
  {
   "cell_type": "code",
   "execution_count": 181,
   "id": "excess-sleeve",
   "metadata": {},
   "outputs": [
    {
     "data": {
      "text/plain": [
       "(24139, 2)"
      ]
     },
     "execution_count": 181,
     "metadata": {},
     "output_type": "execute_result"
    }
   ],
   "source": [
    "twitter_data.shape"
   ]
  },
  {
   "cell_type": "code",
   "execution_count": null,
   "id": "wicked-twenty",
   "metadata": {},
   "outputs": [],
   "source": []
  }
 ],
 "metadata": {
  "kernelspec": {
   "display_name": "Python 3",
   "language": "python",
   "name": "python3"
  },
  "language_info": {
   "codemirror_mode": {
    "name": "ipython",
    "version": 3
   },
   "file_extension": ".py",
   "mimetype": "text/x-python",
   "name": "python",
   "nbconvert_exporter": "python",
   "pygments_lexer": "ipython3",
   "version": "3.8.8"
  }
 },
 "nbformat": 4,
 "nbformat_minor": 5
}
